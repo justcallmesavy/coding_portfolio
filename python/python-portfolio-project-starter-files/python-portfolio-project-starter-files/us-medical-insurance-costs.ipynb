{
 "cells": [
  {
   "cell_type": "markdown",
   "metadata": {},
   "source": [
    "# U.S. Medical Insurance Costs"
   ]
  },
  {
   "cell_type": "code",
   "execution_count": 2,
   "metadata": {},
   "outputs": [
    {
     "data": {
      "text/html": [
       "<div>\n",
       "<style scoped>\n",
       "    .dataframe tbody tr th:only-of-type {\n",
       "        vertical-align: middle;\n",
       "    }\n",
       "\n",
       "    .dataframe tbody tr th {\n",
       "        vertical-align: top;\n",
       "    }\n",
       "\n",
       "    .dataframe thead th {\n",
       "        text-align: right;\n",
       "    }\n",
       "</style>\n",
       "<table border=\"1\" class=\"dataframe\">\n",
       "  <thead>\n",
       "    <tr style=\"text-align: right;\">\n",
       "      <th></th>\n",
       "      <th>age</th>\n",
       "      <th>sex</th>\n",
       "      <th>bmi</th>\n",
       "      <th>children</th>\n",
       "      <th>smoker</th>\n",
       "      <th>region</th>\n",
       "      <th>charges</th>\n",
       "    </tr>\n",
       "  </thead>\n",
       "  <tbody>\n",
       "    <tr>\n",
       "      <th>0</th>\n",
       "      <td>19</td>\n",
       "      <td>female</td>\n",
       "      <td>27.900</td>\n",
       "      <td>0</td>\n",
       "      <td>yes</td>\n",
       "      <td>southwest</td>\n",
       "      <td>16884.92400</td>\n",
       "    </tr>\n",
       "    <tr>\n",
       "      <th>1</th>\n",
       "      <td>18</td>\n",
       "      <td>male</td>\n",
       "      <td>33.770</td>\n",
       "      <td>1</td>\n",
       "      <td>no</td>\n",
       "      <td>southeast</td>\n",
       "      <td>1725.55230</td>\n",
       "    </tr>\n",
       "    <tr>\n",
       "      <th>2</th>\n",
       "      <td>28</td>\n",
       "      <td>male</td>\n",
       "      <td>33.000</td>\n",
       "      <td>3</td>\n",
       "      <td>no</td>\n",
       "      <td>southeast</td>\n",
       "      <td>4449.46200</td>\n",
       "    </tr>\n",
       "    <tr>\n",
       "      <th>3</th>\n",
       "      <td>33</td>\n",
       "      <td>male</td>\n",
       "      <td>22.705</td>\n",
       "      <td>0</td>\n",
       "      <td>no</td>\n",
       "      <td>northwest</td>\n",
       "      <td>21984.47061</td>\n",
       "    </tr>\n",
       "    <tr>\n",
       "      <th>4</th>\n",
       "      <td>32</td>\n",
       "      <td>male</td>\n",
       "      <td>28.880</td>\n",
       "      <td>0</td>\n",
       "      <td>no</td>\n",
       "      <td>northwest</td>\n",
       "      <td>3866.85520</td>\n",
       "    </tr>\n",
       "    <tr>\n",
       "      <th>...</th>\n",
       "      <td>...</td>\n",
       "      <td>...</td>\n",
       "      <td>...</td>\n",
       "      <td>...</td>\n",
       "      <td>...</td>\n",
       "      <td>...</td>\n",
       "      <td>...</td>\n",
       "    </tr>\n",
       "    <tr>\n",
       "      <th>1333</th>\n",
       "      <td>50</td>\n",
       "      <td>male</td>\n",
       "      <td>30.970</td>\n",
       "      <td>3</td>\n",
       "      <td>no</td>\n",
       "      <td>northwest</td>\n",
       "      <td>10600.54830</td>\n",
       "    </tr>\n",
       "    <tr>\n",
       "      <th>1334</th>\n",
       "      <td>18</td>\n",
       "      <td>female</td>\n",
       "      <td>31.920</td>\n",
       "      <td>0</td>\n",
       "      <td>no</td>\n",
       "      <td>northeast</td>\n",
       "      <td>2205.98080</td>\n",
       "    </tr>\n",
       "    <tr>\n",
       "      <th>1335</th>\n",
       "      <td>18</td>\n",
       "      <td>female</td>\n",
       "      <td>36.850</td>\n",
       "      <td>0</td>\n",
       "      <td>no</td>\n",
       "      <td>southeast</td>\n",
       "      <td>1629.83350</td>\n",
       "    </tr>\n",
       "    <tr>\n",
       "      <th>1336</th>\n",
       "      <td>21</td>\n",
       "      <td>female</td>\n",
       "      <td>25.800</td>\n",
       "      <td>0</td>\n",
       "      <td>no</td>\n",
       "      <td>southwest</td>\n",
       "      <td>2007.94500</td>\n",
       "    </tr>\n",
       "    <tr>\n",
       "      <th>1337</th>\n",
       "      <td>61</td>\n",
       "      <td>female</td>\n",
       "      <td>29.070</td>\n",
       "      <td>0</td>\n",
       "      <td>yes</td>\n",
       "      <td>northwest</td>\n",
       "      <td>29141.36030</td>\n",
       "    </tr>\n",
       "  </tbody>\n",
       "</table>\n",
       "<p>1338 rows × 7 columns</p>\n",
       "</div>"
      ],
      "text/plain": [
       "      age     sex     bmi  children smoker     region      charges\n",
       "0      19  female  27.900         0    yes  southwest  16884.92400\n",
       "1      18    male  33.770         1     no  southeast   1725.55230\n",
       "2      28    male  33.000         3     no  southeast   4449.46200\n",
       "3      33    male  22.705         0     no  northwest  21984.47061\n",
       "4      32    male  28.880         0     no  northwest   3866.85520\n",
       "...   ...     ...     ...       ...    ...        ...          ...\n",
       "1333   50    male  30.970         3     no  northwest  10600.54830\n",
       "1334   18  female  31.920         0     no  northeast   2205.98080\n",
       "1335   18  female  36.850         0     no  southeast   1629.83350\n",
       "1336   21  female  25.800         0     no  southwest   2007.94500\n",
       "1337   61  female  29.070         0    yes  northwest  29141.36030\n",
       "\n",
       "[1338 rows x 7 columns]"
      ]
     },
     "execution_count": 2,
     "metadata": {},
     "output_type": "execute_result"
    }
   ],
   "source": [
    "import pandas as pd\n",
    "import numpy as np\n",
    "import matplotlib.pyplot as plt\n",
    "insurance_data = pd.read_csv(\"insurance.csv\")\n",
    "insurance_data"
   ]
  },
  {
   "cell_type": "markdown",
   "metadata": {},
   "source": [
    "# values for men and women in dataset"
   ]
  },
  {
   "cell_type": "code",
   "execution_count": 3,
   "metadata": {},
   "outputs": [
    {
     "name": "stdout",
     "output_type": "stream",
     "text": [
      "There are 676 men and 662 women in our database\n"
     ]
    }
   ],
   "source": [
    "men = len(insurance_data[\"sex\"][insurance_data[\"sex\"] == \"male\"].values)\n",
    "women = len(insurance_data[\"sex\"][insurance_data[\"sex\"] == \"female\"].values)\n",
    "print(\"There are {} men and {} women in our database\".format(men, women))"
   ]
  },
  {
   "cell_type": "markdown",
   "metadata": {},
   "source": [
    "# average bmi for men and women"
   ]
  },
  {
   "cell_type": "code",
   "execution_count": 5,
   "metadata": {},
   "outputs": [
    {
     "name": "stdout",
     "output_type": "stream",
     "text": [
      "The average BMI value for men is 30.94 and for women it is 30.38\n"
     ]
    }
   ],
   "source": [
    "bmi_male = insurance_data[\"bmi\"][insurance_data[\"sex\"] == \"male\"].values\n",
    "average_bmi_male = np.mean(bmi_male)\n",
    "bmi_female = insurance_data[\"bmi\"][insurance_data[\"sex\"] == \"female\"].values\n",
    "average_bmi_female = np.mean(bmi_female)\n",
    "print(\"The average BMI value for men is {male} and for women it is {female}\".format(male=round(average_bmi_male,2),female=round(average_bmi_female,2)))\n"
   ]
  },
  {
   "cell_type": "markdown",
   "metadata": {},
   "source": [
    "# # average bmi by age"
   ]
  },
  {
   "cell_type": "code",
   "execution_count": 6,
   "metadata": {},
   "outputs": [
    {
     "name": "stdout",
     "output_type": "stream",
     "text": [
      "From age 15 to 20 people have an average BMI value of 30.087018072289162\n",
      "From age 20 to 30 people have an average BMI value of 29.773579136690657\n",
      "From age 30 to 40 people have an average BMI value of 30.39986381322956\n",
      "From age 40 to 50 people have an average BMI value of 30.808078291814972\n",
      "From age 50 to 60 people have an average BMI value of 31.449377358490583\n",
      "For people over 60 years old the average BMI value is 32.44181318681318\n"
     ]
    }
   ],
   "source": [
    "bmi_age = {\"15:20\":0,\"20:30\":0,\"30:40\":0,\"40:50\":0,\"50:60\":0, \">60\":0}\n",
    "for ages in bmi_age:\n",
    "    if ages != \">60\":\n",
    "        bmi_age[ages] = sum(insurance_data[\"bmi\"][(insurance_data[\"age\"] > int(ages[:2])) & (insurance_data[\"age\"] <= int(ages[3:]))].values)/len(insurance_data[\"bmi\"][(insurance_data[\"age\"] > int(ages[:2])) & (insurance_data[\"age\"] <= int(ages[3:]))].values)\n",
    "        print(\"From age {age1} to {age2} people have an average BMI value of {bmi_age}\".format(age1=ages[:2], age2=ages[3:], bmi_age=bmi_age[ages]))\n",
    "    else:\n",
    "        bmi_age[ages] = sum(insurance_data[\"bmi\"][insurance_data[\"age\"] > 60].values)/len(insurance_data[\"bmi\"][insurance_data[\"age\"] > 60].values)\n",
    "        print(\"For people over 60 years old the average BMI value is\", bmi_age[ages])"
   ]
  },
  {
   "cell_type": "raw",
   "metadata": {},
   "source": [
    "here we will continue to look age groups and split them into values of underweight, healthy weight, overweight, and obese."
   ]
  },
  {
   "cell_type": "code",
   "execution_count": 7,
   "metadata": {},
   "outputs": [],
   "source": [
    "bmi_ages_categories = {\"15:20\":0,\"20:30\":0,\"30:40\":0,\"40:50\":0,\"50:60\":0, \">60\":0}\n",
    "for ages in bmi_ages_categories:\n",
    "    if ages != \">60\":\n",
    "        categories = {\"underweight\":0,\"healthy weight\":0,\"overweight\":0,\"obese\":0}\n",
    "        categories[\"underweight\"] = len(insurance_data[\"bmi\"][(insurance_data[\"age\"] > int(ages[:2])) & (insurance_data[\"age\"] <= int(ages[3:])) & (insurance_data[\"bmi\"] < 18.5)].values)\n",
    "        categories[\"healthy weight\"] = len(insurance_data[\"bmi\"][(insurance_data[\"age\"] > int(ages[:2])) & (insurance_data[\"age\"] <= int(ages[3:])) & (insurance_data[\"bmi\"] >= 18.5) & (insurance_data[\"bmi\"] < 25)].values)\n",
    "        categories[\"overweight\"] = len(insurance_data[\"bmi\"][(insurance_data[\"age\"] > int(ages[:2])) & (insurance_data[\"age\"] <= int(ages[3:])) & (insurance_data[\"bmi\"] >= 25) & (insurance_data[\"bmi\"] < 30)].values)\n",
    "        categories[\"obese\"] = len(insurance_data[\"bmi\"][(insurance_data[\"age\"] > int(ages[:2])) & (insurance_data[\"age\"] <= int(ages[3:])) & (insurance_data[\"bmi\"] >= 30)].values)\n",
    "    else:\n",
    "        categories = {\"underweight\":0,\"healthy weight\":0,\"overweight\":0,\"obese\":0}\n",
    "        categories[\"underweight\"] = len(insurance_data[\"bmi\"][(insurance_data[\"age\"] > 60) & (insurance_data[\"bmi\"] < 18.5)].values)\n",
    "        categories[\"healthy weight\"] = len(insurance_data[\"bmi\"][(insurance_data[\"age\"] > 60) & (insurance_data[\"bmi\"] >= 18.5) & (insurance_data[\"bmi\"] < 25)].values)\n",
    "        categories[\"overweight\"] = len(insurance_data[\"bmi\"][(insurance_data[\"age\"] > 60) & (insurance_data[\"bmi\"] >= 25) & (insurance_data[\"bmi\"] < 30)].values)\n",
    "        categories[\"obese\"] = len(insurance_data[\"bmi\"][(insurance_data[\"age\"] > 60) & (insurance_data[\"bmi\"] >= 30)].values)\n",
    "    bmi_ages_categories[ages] = categories"
   ]
  },
  {
   "cell_type": "code",
   "execution_count": 13,
   "metadata": {},
   "outputs": [
    {
     "ename": "NameError",
     "evalue": "name 'underweight' is not defined",
     "output_type": "error",
     "traceback": [
      "\u001b[1;31m---------------------------------------------------------------------------\u001b[0m",
      "\u001b[1;31mNameError\u001b[0m                                 Traceback (most recent call last)",
      "Cell \u001b[1;32mIn[13], line 18\u001b[0m\n\u001b[0;32m     15\u001b[0m     bmi_ages_categories[ages] \u001b[38;5;241m=\u001b[39m categories\n\u001b[0;32m     17\u001b[0m \u001b[38;5;66;03m# Make the plot\u001b[39;00m\n\u001b[1;32m---> 18\u001b[0m plt\u001b[38;5;241m.\u001b[39mbar(br1, \u001b[43munderweight\u001b[49m, color\u001b[38;5;241m=\u001b[39m\u001b[38;5;124m\"\u001b[39m\u001b[38;5;124mpalegreen\u001b[39m\u001b[38;5;124m\"\u001b[39m ,width \u001b[38;5;241m=\u001b[39m barWidth,\n\u001b[0;32m     19\u001b[0m         edgecolor \u001b[38;5;241m=\u001b[39m\u001b[38;5;124m'\u001b[39m\u001b[38;5;124mgrey\u001b[39m\u001b[38;5;124m'\u001b[39m, label \u001b[38;5;241m=\u001b[39m\u001b[38;5;124m'\u001b[39m\u001b[38;5;124munderweight\u001b[39m\u001b[38;5;124m'\u001b[39m)\n\u001b[0;32m     20\u001b[0m plt\u001b[38;5;241m.\u001b[39mbar(br2, healthy_weight,color\u001b[38;5;241m=\u001b[39m\u001b[38;5;124m\"\u001b[39m\u001b[38;5;124mlimegreen\u001b[39m\u001b[38;5;124m\"\u001b[39m, width \u001b[38;5;241m=\u001b[39m barWidth,\n\u001b[0;32m     21\u001b[0m         edgecolor \u001b[38;5;241m=\u001b[39m\u001b[38;5;124m'\u001b[39m\u001b[38;5;124mgrey\u001b[39m\u001b[38;5;124m'\u001b[39m, label \u001b[38;5;241m=\u001b[39m\u001b[38;5;124m\"\u001b[39m\u001b[38;5;124mhealthy weight\u001b[39m\u001b[38;5;124m\"\u001b[39m)\n\u001b[0;32m     22\u001b[0m plt\u001b[38;5;241m.\u001b[39mbar(br3, overweight,color\u001b[38;5;241m=\u001b[39m\u001b[38;5;124m\"\u001b[39m\u001b[38;5;124mgreen\u001b[39m\u001b[38;5;124m\"\u001b[39m, width \u001b[38;5;241m=\u001b[39m barWidth,\n\u001b[0;32m     23\u001b[0m         edgecolor \u001b[38;5;241m=\u001b[39m\u001b[38;5;124m'\u001b[39m\u001b[38;5;124mgrey\u001b[39m\u001b[38;5;124m'\u001b[39m, label \u001b[38;5;241m=\u001b[39m\u001b[38;5;124m'\u001b[39m\u001b[38;5;124moverweight\u001b[39m\u001b[38;5;124m'\u001b[39m)\n",
      "\u001b[1;31mNameError\u001b[0m: name 'underweight' is not defined"
     ]
    }
   ],
   "source": [
    "# set width of bar\n",
    "barWidth = 0.20\n",
    "fig = plt.subplots(figsize =(12, 8))\n",
    "\n",
    "underweight = [bmi_ages_categories[ages][\"underweight\"] for ages in bmi_ages_categories]\n",
    "healthy_weight = [bmi_ages_categories[ages][\"healthy weight\"] for ages in bmi_ages_categories]\n",
    "overweight = [bmi_ages_categories[ages][\"overweight\"] for ages in bmi_ages_categories]\n",
    "obese = [bmi_ages_categories[ages][\"obese\"] for ages in bmi_ages_categories]\n",
    "# Set position of bar on X axis\n",
    "br1 = np.arange(6)\n",
    "br2 = [x + barWidth for x in br1]\n",
    "br3 = [x + barWidth for x in br2]\n",
    "br4 = [x + barWidth for x in br3]\n",
    " \n",
    "# Make the plot\n",
    "plt.bar(br1, underweight, color=\"palegreen\" ,width = barWidth,\n",
    "        edgecolor ='grey', label ='underweight')\n",
    "plt.bar(br2, healthy_weight,color=\"limegreen\", width = barWidth,\n",
    "        edgecolor ='grey', label =\"healthy weight\")\n",
    "plt.bar(br3, overweight,color=\"green\", width = barWidth,\n",
    "        edgecolor ='grey', label ='overweight')\n",
    "plt.bar(br4, obese, color=\"darkgreen\",width = barWidth,\n",
    "        edgecolor ='grey', label ='obese')\n",
    "\n",
    " \n",
    "# Adding Xticks\n",
    "plt.xlabel('Ages', fontweight ='bold', fontsize = 15)\n",
    "plt.ylabel('Number of people', fontweight ='bold', fontsize = 15)\n",
    "plt.xticks([r + barWidth for r in range(6)],\n",
    "        [\"[\"+ages+\"]\" for ages in bmi_ages_categories])\n",
    " \n",
    "plt.legend()\n",
    "plt.show()"
   ]
  },
  {
   "cell_type": "code",
   "execution_count": null,
   "metadata": {},
   "outputs": [],
   "source": []
  }
 ],
 "metadata": {
  "kernelspec": {
   "display_name": "Python 3 (ipykernel)",
   "language": "python",
   "name": "python3"
  },
  "language_info": {
   "codemirror_mode": {
    "name": "ipython",
    "version": 3
   },
   "file_extension": ".py",
   "mimetype": "text/x-python",
   "name": "python",
   "nbconvert_exporter": "python",
   "pygments_lexer": "ipython3",
   "version": "3.10.9"
  }
 },
 "nbformat": 4,
 "nbformat_minor": 4
}
