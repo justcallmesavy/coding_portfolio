{
 "cells": [
  {
   "attachments": {},
   "cell_type": "markdown",
   "id": "0d033e85",
   "metadata": {},
   "source": [
    "# Life Expectancy By Country"
   ]
  },
  {
   "attachments": {},
   "cell_type": "markdown",
   "id": "fd4403be",
   "metadata": {},
   "source": [
    "Over the course of the past few centuries, technological and medical advancements have helped increase the life expectancy of humans. However, as of now, the average life expectancy of humans varies depending on what country you live in.\n",
    "\n",
    "In this project, we will investigate a dataset containing information about the average life expectancy in 158 different countries. We will specifically look at how a country's economic success might impact the life expectancy in that area."
   ]
  },
  {
   "attachments": {},
   "cell_type": "markdown",
   "id": "addfa720",
   "metadata": {},
   "source": [
    "## Access the Data"
   ]
  },
  {
   "attachments": {},
   "cell_type": "markdown",
   "id": "44ba5eb2",
   "metadata": {},
   "source": [
    "1. We've imported a dataset containing the life expectancy in different countries. The data can be found in the variable named `data`.\n",
    "\n",
    "   To begin, let's get a sense of what this data looks like. Print `data.head()` to see the first 5 rows of the dataset.\n",
    "   \n",
    "   Look at the names of the columns. What other pieces of information does this dataset contain?\n",
    "   \n",
    "   You may want to comment out this print statement after looking at the data."
   ]
  },
  {
   "cell_type": "code",
   "execution_count": 30,
   "id": "551cb1ca",
   "metadata": {},
   "outputs": [
    {
     "data": {
      "text/html": [
       "<div>\n",
       "<style scoped>\n",
       "    .dataframe tbody tr th:only-of-type {\n",
       "        vertical-align: middle;\n",
       "    }\n",
       "\n",
       "    .dataframe tbody tr th {\n",
       "        vertical-align: top;\n",
       "    }\n",
       "\n",
       "    .dataframe thead th {\n",
       "        text-align: right;\n",
       "    }\n",
       "</style>\n",
       "<table border=\"1\" class=\"dataframe\">\n",
       "  <thead>\n",
       "    <tr style=\"text-align: right;\">\n",
       "      <th></th>\n",
       "      <th>Country</th>\n",
       "      <th>Life Expectancy</th>\n",
       "      <th>GDP</th>\n",
       "    </tr>\n",
       "  </thead>\n",
       "  <tbody>\n",
       "    <tr>\n",
       "      <th>0</th>\n",
       "      <td>Afghanistan</td>\n",
       "      <td>58.19375</td>\n",
       "      <td>340.015425</td>\n",
       "    </tr>\n",
       "    <tr>\n",
       "      <th>1</th>\n",
       "      <td>Albania</td>\n",
       "      <td>75.15625</td>\n",
       "      <td>2119.726679</td>\n",
       "    </tr>\n",
       "    <tr>\n",
       "      <th>2</th>\n",
       "      <td>Algeria</td>\n",
       "      <td>73.61875</td>\n",
       "      <td>2847.853392</td>\n",
       "    </tr>\n",
       "    <tr>\n",
       "      <th>3</th>\n",
       "      <td>Angola</td>\n",
       "      <td>49.01875</td>\n",
       "      <td>1975.143045</td>\n",
       "    </tr>\n",
       "    <tr>\n",
       "      <th>4</th>\n",
       "      <td>Antigua and Barbuda</td>\n",
       "      <td>75.05625</td>\n",
       "      <td>9759.305728</td>\n",
       "    </tr>\n",
       "  </tbody>\n",
       "</table>\n",
       "</div>"
      ],
      "text/plain": [
       "               Country  Life Expectancy          GDP\n",
       "0          Afghanistan         58.19375   340.015425\n",
       "1              Albania         75.15625  2119.726679\n",
       "2              Algeria         73.61875  2847.853392\n",
       "3               Angola         49.01875  1975.143045\n",
       "4  Antigua and Barbuda         75.05625  9759.305728"
      ]
     },
     "execution_count": 30,
     "metadata": {},
     "output_type": "execute_result"
    }
   ],
   "source": [
    "import numpy as np\n",
    "import pandas as pd\n",
    "import matplotlib.pyplot as plt\n",
    "\n",
    "data = pd.read_csv(\"country_data.csv\")\n",
    "\n",
    "\n",
    "data.head()"
   ]
  },
  {
   "attachments": {},
   "cell_type": "markdown",
   "id": "1b0baea2",
   "metadata": {},
   "source": [
    "2. Let's isolate the column that contains the life expectancy and store it in a variable named `life_expectancy`. To get a single column from a Pandas DataFrame, use this syntax:\n",
    "\n",
    "   ```py\n",
    "   single_column = dataFrameName[\"columnName\"]\n",
    "   ```\n",
    "   \n",
    "   Make sure to pay attention to capitalization and spaces when using the column name!"
   ]
  },
  {
   "cell_type": "code",
   "execution_count": 31,
   "id": "817d9a01",
   "metadata": {},
   "outputs": [],
   "source": [
    "life_expectancy = data['Life Expectancy']"
   ]
  },
  {
   "attachments": {},
   "cell_type": "markdown",
   "id": "6dbb4fb4",
   "metadata": {},
   "source": [
    "## Find the Quantiles"
   ]
  },
  {
   "attachments": {},
   "cell_type": "markdown",
   "id": "f2bb4419",
   "metadata": {},
   "source": [
    "3. We can now use NumPy functions on that column! Let's use the `np.quantile()` function to find the quartiles of `life_expectancy`. Store the result in a variable named `life_expectancy_quartiles` and print the results."
   ]
  },
  {
   "cell_type": "code",
   "execution_count": 32,
   "id": "132424f2",
   "metadata": {},
   "outputs": [
    {
     "name": "stdout",
     "output_type": "stream",
     "text": [
      "[62.325     72.525     75.4421875]\n"
     ]
    }
   ],
   "source": [
    "life_expectancy_quartiles = np.quantile(life_expectancy, [.25, .5, .75])\n",
    "print(life_expectancy_quartiles)"
   ]
  },
  {
   "attachments": {},
   "cell_type": "markdown",
   "id": "d6b6d31e",
   "metadata": {},
   "source": [
    "4. Nice work! By looking at those three values you can get a sense of the spread of the data. For example, it seems like some of the data is fairly close together &mdash; a quarter of the data is between `72.5` years and `75.4` years.\n",
    "\n",
    "   Could you predict what the histogram might look like from those three numbers? Plot the histogram by using the following two lines of code. Does it look how you expected?\n",
    "   \n",
    "   ```py\n",
    "   plt.hist(life_expectancy)\n",
    "   plt.show()\n",
    "   ```"
   ]
  },
  {
   "cell_type": "code",
   "execution_count": 33,
   "id": "9ae17988",
   "metadata": {},
   "outputs": [
    {
     "data": {
      "image/png": "[encoded data removed]",
      "text/plain": [
       "<Figure size 640x480 with 1 Axes>"
      ]
     },
     "metadata": {},
     "output_type": "display_data"
    }
   ],
   "source": [
    "plt.hist(life_expectancy, alpha=.5, color=\"gray\")\n",
    "\n",
    "colors = ['red', 'green', 'blue']\n",
    "for i, quartile in enumerate(life_expectancy):\n",
    "    if i < len(colors):\n",
    "        plt.axvline(x=quartile, color=colors[i], linestyle='--', linewidth=2)\n",
    "    \n",
    "plt.title('Life Expectancy By Country')\n",
    "plt.xlabel('Age')\n",
    "plt.ylabel('Frequency')\n",
    "plt.legend(['25% quartile', '50% quartile', '75% quartile'])\n",
    "plt.show()\n"
   ]
  },
  {
   "attachments": {},
   "cell_type": "markdown",
   "id": "be8976cb",
   "metadata": {},
   "source": [
    "5. Let's take a moment to think about the meaning of these quartiles. If your country has a life expectancy of `70` years, does that fall in the first, second, third, or final quarter of the data?\n",
    "\n",
    "   View **Life Expectancy By Country_Solution.ipynb** to see the answer!"
   ]
  },
  {
   "cell_type": "code",
   "execution_count": 34,
   "id": "acd0d94c",
   "metadata": {},
   "outputs": [],
   "source": [
    "# it would fall in the second quartile because it falls below that 72.525 range"
   ]
  },
  {
   "attachments": {},
   "cell_type": "markdown",
   "id": "dc83db64",
   "metadata": {},
   "source": [
    "## Splitting the Data by GDP"
   ]
  },
  {
   "attachments": {},
   "cell_type": "markdown",
   "id": "4dab91c1",
   "metadata": {},
   "source": [
    "6. GDP is a measure of a country's wealth. Let's now use the GDP data to see if life expectancy is affected by this value.\n",
    "\n",
    "   Let's split the data into two groups based on GDP. If we find the median GDP, we can create two datasets for \"low GDP countries\" and \"high GDP countries\".\n",
    "   \n",
    "   To start, let's isolate the GDP column and store it in a variable named `gdp`. This should be similar to how you isolated the life expectancy column."
   ]
  },
  {
   "cell_type": "code",
   "execution_count": 35,
   "id": "fa544862",
   "metadata": {},
   "outputs": [],
   "source": [
    "gdp = data['GDP']"
   ]
  },
  {
   "attachments": {},
   "cell_type": "markdown",
   "id": "cc7e433e",
   "metadata": {},
   "source": [
    "7. We now want to find the median GDP. You can use NumPy's `np.median()` function, but since the median is also a quantile, we can call `np.quantile()` using `0.5` as the second parameter.\n",
    "\n",
    "   Store the median in a variable named `median_gdp`. Print that variable to see the median."
   ]
  },
  {
   "cell_type": "code",
   "execution_count": 36,
   "id": "1a3e21b3",
   "metadata": {},
   "outputs": [
    {
     "name": "stdout",
     "output_type": "stream",
     "text": [
      "2938.0781155\n"
     ]
    }
   ],
   "source": [
    "median_gdp = np.quantile(gdp, .5)\n",
    "print(median_gdp)"
   ]
  },
  {
   "attachments": {},
   "cell_type": "markdown",
   "id": "7581520c",
   "metadata": {},
   "source": [
    "8. Let's now grab all of the rows from our original dataset that have a GDP less than or equal to the median. The following code will do that for you:\n",
    "\n",
    "   ```py\n",
    "   low_gdp = data[data['GDP'] <= median_gdp]\n",
    "   ```\n",
    "   \n",
    "   Do the same for all of the rows that have a GDP higher than the median. Store those rows in a variable named `high_gdp`.\n",
    "   \n",
    "   The line of code should look almost identical to the one above, but you should change the `<=` to `>`.\n",
    "   \n",
    "   Remember to change the name of the variable!"
   ]
  },
  {
   "cell_type": "code",
   "execution_count": 37,
   "id": "12067c34",
   "metadata": {},
   "outputs": [
    {
     "name": "stdout",
     "output_type": "stream",
     "text": [
      "         Country  Life Expectancy          GDP\n",
      "0    Afghanistan         58.19375   340.015425\n",
      "1        Albania         75.15625  2119.726679\n",
      "2        Algeria         73.61875  2847.853392\n",
      "3         Angola         49.01875  1975.143045\n",
      "6        Armenia         73.40000  1999.986318\n",
      "..           ...              ...          ...\n",
      "151      Ukraine         69.93750  1577.293329\n",
      "154   Uzbekistan         68.03125   651.092359\n",
      "155      Vanuatu         71.38750  2000.245518\n",
      "156       Zambia         53.90625   811.811841\n",
      "157     Zimbabwe         50.48750   410.980194\n",
      "\n",
      "[79 rows x 3 columns]\n"
     ]
    }
   ],
   "source": [
    "low_gdp = data[data['GDP'] <= median_gdp]\n",
    "print(low_gdp)"
   ]
  },
  {
   "attachments": {},
   "cell_type": "markdown",
   "id": "26ad7103",
   "metadata": {},
   "source": [
    "9. Now that we've split the data based on the GDP, let's see how the life expectancy of each group compares to each other.\n",
    "\n",
    "   Find the quartiles of the `\"Life Expectancy\"` column of `low_gdp`. Store the quartiles in a variable named `low_gdp_quartiles`. Print the results."
   ]
  },
  {
   "cell_type": "code",
   "execution_count": null,
   "id": "4a06ada2",
   "metadata": {},
   "outputs": [],
   "source": [
    "low_gdp_quartiles = np.quantile(low_gdp['Life Expectancy', [.25, .5,.75]])\n"
   ]
  },
  {
   "attachments": {},
   "cell_type": "markdown",
   "id": "e900d679",
   "metadata": {},
   "source": [
    "10. Find the quartiles of the high GDP countries and store them in a variable named `high_gdp_quartiles`. This should look very similar to the last line of code you wrote. Print the results."
   ]
  },
  {
   "cell_type": "code",
   "execution_count": 46,
   "id": "091c76c9",
   "metadata": {},
   "outputs": [
    {
     "name": "stdout",
     "output_type": "stream",
     "text": [
      "                  Country  Life Expectancy           GDP\n",
      "4     Antigua and Barbuda         75.05625   9759.305728\n",
      "5               Argentina         75.15625   6998.575103\n",
      "7               Australia         81.81250  34637.565050\n",
      "8                 Austria         81.48125  33827.476310\n",
      "9              Azerbaijan         70.73125   3302.947807\n",
      "..                    ...              ...           ...\n",
      "146   Trinidad and Tobago         71.06875   7741.748090\n",
      "147               Tunisia         74.35625   3044.081488\n",
      "148                Turkey         73.91250   3983.917722\n",
      "152  United Arab Emirates         75.70000  22110.366990\n",
      "153               Uruguay         76.07500   7192.584875\n",
      "\n",
      "[79 rows x 3 columns]\n"
     ]
    },
    {
     "ename": "InvalidIndexError",
     "evalue": "('Life Expectancy', [0.25, 0.5, 0.75])",
     "output_type": "error",
     "traceback": [
      "\u001b[1;31m---------------------------------------------------------------------------\u001b[0m",
      "\u001b[1;31mTypeError\u001b[0m                                 Traceback (most recent call last)",
      "File \u001b[1;32mc:\\Users\\Savage Vivo\\anaconda3\\lib\\site-packages\\pandas\\core\\indexes\\base.py:3802\u001b[0m, in \u001b[0;36mIndex.get_loc\u001b[1;34m(self, key, method, tolerance)\u001b[0m\n\u001b[0;32m   3801\u001b[0m \u001b[39mtry\u001b[39;00m:\n\u001b[1;32m-> 3802\u001b[0m     \u001b[39mreturn\u001b[39;00m \u001b[39mself\u001b[39;49m\u001b[39m.\u001b[39;49m_engine\u001b[39m.\u001b[39;49mget_loc(casted_key)\n\u001b[0;32m   3803\u001b[0m \u001b[39mexcept\u001b[39;00m \u001b[39mKeyError\u001b[39;00m \u001b[39mas\u001b[39;00m err:\n",
      "File \u001b[1;32mc:\\Users\\Savage Vivo\\anaconda3\\lib\\site-packages\\pandas\\_libs\\index.pyx:138\u001b[0m, in \u001b[0;36mpandas._libs.index.IndexEngine.get_loc\u001b[1;34m()\u001b[0m\n",
      "File \u001b[1;32mc:\\Users\\Savage Vivo\\anaconda3\\lib\\site-packages\\pandas\\_libs\\index.pyx:144\u001b[0m, in \u001b[0;36mpandas._libs.index.IndexEngine.get_loc\u001b[1;34m()\u001b[0m\n",
      "\u001b[1;31mTypeError\u001b[0m: '('Life Expectancy', [0.25, 0.5, 0.75])' is an invalid key",
      "\nDuring handling of the above exception, another exception occurred:\n",
      "\u001b[1;31mInvalidIndexError\u001b[0m                         Traceback (most recent call last)",
      "Cell \u001b[1;32mIn[46], line 4\u001b[0m\n\u001b[0;32m      1\u001b[0m high_gdp \u001b[39m=\u001b[39m data[data[\u001b[39m'\u001b[39m\u001b[39mGDP\u001b[39m\u001b[39m'\u001b[39m] \u001b[39m>\u001b[39m median_gdp]\n\u001b[0;32m      2\u001b[0m \u001b[39mprint\u001b[39m(high_gdp)\n\u001b[1;32m----> 4\u001b[0m high_gdp_quartiles \u001b[39m=\u001b[39m np\u001b[39m.\u001b[39mquantile(high_gdp[\u001b[39m'\u001b[39;49m\u001b[39mLife Expectancy\u001b[39;49m\u001b[39m'\u001b[39;49m, [\u001b[39m.25\u001b[39;49m, \u001b[39m.5\u001b[39;49m,\u001b[39m.75\u001b[39;49m]])\n",
      "File \u001b[1;32mc:\\Users\\Savage Vivo\\anaconda3\\lib\\site-packages\\pandas\\core\\frame.py:3807\u001b[0m, in \u001b[0;36mDataFrame.__getitem__\u001b[1;34m(self, key)\u001b[0m\n\u001b[0;32m   3805\u001b[0m \u001b[39mif\u001b[39;00m \u001b[39mself\u001b[39m\u001b[39m.\u001b[39mcolumns\u001b[39m.\u001b[39mnlevels \u001b[39m>\u001b[39m \u001b[39m1\u001b[39m:\n\u001b[0;32m   3806\u001b[0m     \u001b[39mreturn\u001b[39;00m \u001b[39mself\u001b[39m\u001b[39m.\u001b[39m_getitem_multilevel(key)\n\u001b[1;32m-> 3807\u001b[0m indexer \u001b[39m=\u001b[39m \u001b[39mself\u001b[39;49m\u001b[39m.\u001b[39;49mcolumns\u001b[39m.\u001b[39;49mget_loc(key)\n\u001b[0;32m   3808\u001b[0m \u001b[39mif\u001b[39;00m is_integer(indexer):\n\u001b[0;32m   3809\u001b[0m     indexer \u001b[39m=\u001b[39m [indexer]\n",
      "File \u001b[1;32mc:\\Users\\Savage Vivo\\anaconda3\\lib\\site-packages\\pandas\\core\\indexes\\base.py:3809\u001b[0m, in \u001b[0;36mIndex.get_loc\u001b[1;34m(self, key, method, tolerance)\u001b[0m\n\u001b[0;32m   3804\u001b[0m         \u001b[39mraise\u001b[39;00m \u001b[39mKeyError\u001b[39;00m(key) \u001b[39mfrom\u001b[39;00m \u001b[39merr\u001b[39;00m\n\u001b[0;32m   3805\u001b[0m     \u001b[39mexcept\u001b[39;00m \u001b[39mTypeError\u001b[39;00m:\n\u001b[0;32m   3806\u001b[0m         \u001b[39m# If we have a listlike key, _check_indexing_error will raise\u001b[39;00m\n\u001b[0;32m   3807\u001b[0m         \u001b[39m#  InvalidIndexError. Otherwise we fall through and re-raise\u001b[39;00m\n\u001b[0;32m   3808\u001b[0m         \u001b[39m#  the TypeError.\u001b[39;00m\n\u001b[1;32m-> 3809\u001b[0m         \u001b[39mself\u001b[39;49m\u001b[39m.\u001b[39;49m_check_indexing_error(key)\n\u001b[0;32m   3810\u001b[0m         \u001b[39mraise\u001b[39;00m\n\u001b[0;32m   3812\u001b[0m \u001b[39m# GH#42269\u001b[39;00m\n",
      "File \u001b[1;32mc:\\Users\\Savage Vivo\\anaconda3\\lib\\site-packages\\pandas\\core\\indexes\\base.py:5925\u001b[0m, in \u001b[0;36mIndex._check_indexing_error\u001b[1;34m(self, key)\u001b[0m\n\u001b[0;32m   5921\u001b[0m \u001b[39mdef\u001b[39;00m \u001b[39m_check_indexing_error\u001b[39m(\u001b[39mself\u001b[39m, key):\n\u001b[0;32m   5922\u001b[0m     \u001b[39mif\u001b[39;00m \u001b[39mnot\u001b[39;00m is_scalar(key):\n\u001b[0;32m   5923\u001b[0m         \u001b[39m# if key is not a scalar, directly raise an error (the code below\u001b[39;00m\n\u001b[0;32m   5924\u001b[0m         \u001b[39m# would convert to numpy arrays and raise later any way) - GH29926\u001b[39;00m\n\u001b[1;32m-> 5925\u001b[0m         \u001b[39mraise\u001b[39;00m InvalidIndexError(key)\n",
      "\u001b[1;31mInvalidIndexError\u001b[0m: ('Life Expectancy', [0.25, 0.5, 0.75])"
     ]
    }
   ],
   "source": [
    "high_gdp = data[data['GDP'] > median_gdp]\n",
    "print(high_gdp)\n",
    "\n",
    "high_gdp_quartiles = np.quantile(high_gdp['Life Expectancy', [.25, .5,.75]])\n"
   ]
  },
  {
   "attachments": {},
   "cell_type": "markdown",
   "id": "5fbc2a78",
   "metadata": {},
   "source": [
    "## Histogram and Conclusions"
   ]
  },
  {
   "attachments": {},
   "cell_type": "markdown",
   "id": "f3472ae2",
   "metadata": {},
   "source": [
    "11. By looking at the quantiles, you should get a sense of the spread and central tendency of these two datasets. But let's plot a histogram of each dataset to really compare them.\n",
    "\n",
    "    At the bottom of your code, add these four lines:\n",
    "    ```py\n",
    "    plt.hist(high_gdp[\"Life Expectancy\"], alpha = 0.5, label = \"High GDP\")\n",
    "    plt.hist(low_gdp[\"Life Expectancy\"], alpha = 0.5, label = \"Low GDP\")\n",
    "    plt.legend()\n",
    "    plt.show()\n",
    "    ```"
   ]
  },
  {
   "cell_type": "code",
   "execution_count": 59,
   "id": "87077d84",
   "metadata": {},
   "outputs": [
    {
     "data": {
      "image/png": "[encoded data removed]",
      "text/plain": [
       "<Figure size 640x480 with 1 Axes>"
      ]
     },
     "metadata": {},
     "output_type": "display_data"
    }
   ],
   "source": [
    "plt.hist(high_gdp[\"Life Expectancy\"], bins=15, alpha = 0.5, label = \"High GDP\", color='green')\n",
    "\n",
    "\n",
    "colors = ['red', 'green', 'blue']\n",
    "for i, quartile in enumerate(high_gdp['Life Expectancy']):\n",
    "    if i < len(colors):\n",
    "        plt.axvline(x=quartile, color=colors[i], linestyle='solid', linewidth=2)\n",
    "        \n",
    "plt.hist(low_gdp[\"Life Expectancy\"],bins=15, alpha = 0.5, label = \"Low GDP\", color='gray')\n",
    "colors = ['red', 'green', 'blue']\n",
    "for i, quartile in enumerate(low_gdp['Life Expectancy']):\n",
    "    if i < len(colors):\n",
    "        plt.axvline(x=quartile, color=colors[i], linestyle='--', linewidth=2)\n",
    "    \n",
    "plt.title('Life Expectancy By Country')\n",
    "plt.xlabel('Age')\n",
    "plt.ylabel('Frequency')\n",
    "plt.legend()\n",
    "\n",
    "\n",
    "plt.legend()\n",
    "plt.show()"
   ]
  },
  {
   "attachments": {},
   "cell_type": "markdown",
   "id": "2903763d",
   "metadata": {},
   "source": [
    "12. We can now truly see the impact GDP has on life expectancy.\n",
    "\n",
    "    Once again, consider a country that has a life expectancy of `70` years. If that country is in the top half of GDP countries, is it in the first, second, third, or fourth quarter of the data with respect to life expectancy? What if the country is in the bottom half of the countries? View **Life Expectancy By Country_Solution.ipynb** to see our thoughts."
   ]
  },
  {
   "cell_type": "code",
   "execution_count": 60,
   "id": "23367b69",
   "metadata": {},
   "outputs": [],
   "source": [
    "# for the high GDP countries a life expectancy of 70 would fit into the first quartile. The same age for the low GDP countries it would fit in the third quartile"
   ]
  }
 ],
 "metadata": {
  "kernelspec": {
   "display_name": "Python 3 (ipykernel)",
   "language": "python",
   "name": "python3"
  },
  "language_info": {
   "codemirror_mode": {
    "name": "ipython",
    "version": 3
   },
   "file_extension": ".py",
   "mimetype": "text/x-python",
   "name": "python",
   "nbconvert_exporter": "python",
   "pygments_lexer": "ipython3",
   "version": "3.10.9"
  }
 },
 "nbformat": 4,
 "nbformat_minor": 5
}
